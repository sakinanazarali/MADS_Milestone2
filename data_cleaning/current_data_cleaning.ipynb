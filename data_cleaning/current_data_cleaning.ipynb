{
 "cells": [
  {
   "cell_type": "code",
   "execution_count": 17,
   "id": "edd09d35-2256-45fc-9234-7d989dd8119b",
   "metadata": {},
   "outputs": [],
   "source": [
    "import pandas as pd\n",
    "import numpy as np"
   ]
  },
  {
   "cell_type": "code",
   "execution_count": 21,
   "id": "c738b5cc-c940-4ba6-8283-31dc6241fe44",
   "metadata": {},
   "outputs": [
    {
     "name": "stderr",
     "output_type": "stream",
     "text": [
      "/var/folders/8q/ncnhj12n3p328_9h8_4j1y6h0000gn/T/ipykernel_71747/193701054.py:2: DtypeWarning: Columns (20,21,22,23,24,25,26,27,28,29,30,31,32,34,35,36) have mixed types. Specify dtype option on import or set low_memory=False.\n",
      "  current_df = pd.read_csv(\"/Users/sakinanazarali/Downloads/current_final.csv\")\n"
     ]
    }
   ],
   "source": [
    "# read in the NLRB current data\n",
    "current_df = pd.read_csv(\"/Users/sakinanazarali/Downloads/current_final.csv\")"
   ]
  },
  {
   "cell_type": "code",
   "execution_count": 22,
   "id": "a70b6442-09d4-45ec-a814-4de699fc2aa7",
   "metadata": {},
   "outputs": [],
   "source": [
    "# several columns have mixed dtypes because we are using the string \"nan\" instead of \"NaN\"\n",
    "current_df.replace('nan', np.nan, inplace=True)"
   ]
  },
  {
   "cell_type": "code",
   "execution_count": 36,
   "id": "5f363998-3002-44bf-b1a6-b9b5555d2082",
   "metadata": {},
   "outputs": [
    {
     "name": "stdout",
     "output_type": "stream",
     "text": [
      "the unfiltered dataset has 1151526 rows and 266396 unique case numbers\n"
     ]
    }
   ],
   "source": [
    "# several of the cases have many parties involved in them, for instance, multiple law firms, individuals, nlrb units. \n",
    "# however, we are only interested in the cases where the entities are labor unions or employer names. hence, we drop all other roles\n",
    "unique_case_numbers = current_df['nlrb_case_number'].unique()\n",
    "print(f\"the unfiltered dataset has {current_df.shape[0]} rows and {len(unique_case_numbers)} unique case numbers\")"
   ]
  },
  {
   "cell_type": "code",
   "execution_count": 37,
   "id": "2ebdf0d0-e67a-493c-a5ec-2f4f2b795e6c",
   "metadata": {},
   "outputs": [
    {
     "name": "stdout",
     "output_type": "stream",
     "text": [
      "the filtered dataset has 588342 rows and 264584 unique case numbers\n"
     ]
    }
   ],
   "source": [
    "# drop the roles in the df which mainly hold information that we are not interested in\n",
    "filtered_current_df = current_df[~current_df['role'].isin(['cdp_lr', 'cgp_i', 'cgp_n', 'cgp_rlr','e_lr', 'i_as', 'p_lr', 'p_i', 'ip_n', 'ip_lr', 'i_lr'])]\n",
    "unique_case_numbers_filtered_df = filtered_current_df['nlrb_case_number'].unique()\n",
    "print(f\"the filtered dataset has {filtered_current_df.shape[0]} rows and {len(unique_case_numbers_filtered_df)} unique case numbers\")"
   ]
  },
  {
   "cell_type": "code",
   "execution_count": 42,
   "id": "53e3d6c9-e28d-489f-b904-01f0fccc80e3",
   "metadata": {},
   "outputs": [],
   "source": [
    "# several of the items in the \"entity\" columns and the \"case\" column have the items named in quotations. we would like to remove these. \n",
    "# create a function that can be applied to all cells to detect if the cell is wrapped in quotations. \n",
    "def remove_quotes(cell):\n",
    "    if isinstance(cell, str) and cell.startswith('\"') and cell.endswith('\"'):\n",
    "        return cell[1:-1]  \n",
    "    else:\n",
    "        return cell"
   ]
  },
  {
   "cell_type": "code",
   "execution_count": 43,
   "id": "0f9bd207-f6a0-4b92-9f5a-0977acbb9768",
   "metadata": {},
   "outputs": [
    {
     "name": "stderr",
     "output_type": "stream",
     "text": [
      "/var/folders/8q/ncnhj12n3p328_9h8_4j1y6h0000gn/T/ipykernel_71747/680828087.py:2: FutureWarning: DataFrame.applymap has been deprecated. Use DataFrame.map instead.\n",
      "  current_df_cleaned = filtered_current_df.applymap(remove_quotes)\n"
     ]
    }
   ],
   "source": [
    "# apply above function to all cells in df\n",
    "current_df_cleaned = filtered_current_df.applymap(remove_quotes)"
   ]
  },
  {
   "cell_type": "code",
   "execution_count": 47,
   "id": "94ec1ee5-2d11-419c-9ccc-e01474212e70",
   "metadata": {},
   "outputs": [],
   "source": [
    "current_df_cleaned.to_csv('/Users/sakinanazarali/PycharmProjects/MADS_Milestone2/cleaned_current_data.csv', index=False)"
   ]
  },
  {
   "cell_type": "code",
   "execution_count": null,
   "id": "22e2171d-8be4-4746-b764-0830d1cd94e4",
   "metadata": {},
   "outputs": [],
   "source": []
  }
 ],
 "metadata": {
  "kernelspec": {
   "display_name": "Python 3 (ipykernel)",
   "language": "python",
   "name": "python3"
  },
  "language_info": {
   "codemirror_mode": {
    "name": "ipython",
    "version": 3
   },
   "file_extension": ".py",
   "mimetype": "text/x-python",
   "name": "python",
   "nbconvert_exporter": "python",
   "pygments_lexer": "ipython3",
   "version": "3.11.5"
  }
 },
 "nbformat": 4,
 "nbformat_minor": 5
}
